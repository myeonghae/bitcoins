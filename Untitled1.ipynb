{
  "nbformat": 4,
  "nbformat_minor": 0,
  "metadata": {
    "colab": {
      "provenance": []
    },
    "kernelspec": {
      "name": "python3",
      "display_name": "Python 3"
    },
    "language_info": {
      "name": "python"
    }
  },
  "cells": [
    {
      "cell_type": "code",
      "execution_count": 38,
      "metadata": {
        "colab": {
          "base_uri": "https://localhost:8080/"
        },
        "id": "_SdFH1XG-om_",
        "outputId": "9124bc59-1831-4730-e150-767cf267ac68"
      },
      "outputs": [
        {
          "output_type": "stream",
          "name": "stdout",
          "text": [
            "현재가 : 3180\n",
            "24시간뒤의 가격: 3855\n"
          ]
        }
      ],
      "source": [
        "!pip install pyupbit\n",
        "!pip install pykrx\n",
        "!pip install conda\n",
        "!conda install libpython m2w64-toolchain -c msys2\n",
        "!pip install pystan\n",
        "!pip install fbprophet\n",
        "\n",
        "import pyupbit\n",
        "from pykrx import stock\n",
        "from fbprophet import Prophet\n",
        "from fbprophet.plot import add_changepoints_to_plot\n",
        "\n",
        "#BTC 최근 200시간의 데이터 불러오기\n",
        "df = pyupbit.get_ohlcv(\"KRW-BTC\", interval=\"minute60\")\n",
        "print(df)\n",
        "\n",
        "#시간(ds)와 종가(y)값만 남기기\n",
        "df = df.reset_index()\n",
        "df['ds'] = df['index']\n",
        "df['y'] = df['close']\n",
        "data = df[['ds', 'y']]\n",
        "\n",
        "model = Prophet(\n",
        "    seasonality_mode='multiplicative',\n",
        "    changepoint_prior_scale=0.5,\n",
        "    changepoint_range=0.9,\n",
        ")\n",
        "model.fit(data)\n",
        "\n",
        "#24시간예측\n",
        "future = model.make_future_dataframe(periods=24, freq='H')\n",
        "forecast = model.predict(future)\n",
        "\n",
        "#가격 조회\n",
        "nowValue = pyupbit.get_current_price(\"KRW-BTC\")\n",
        "closeValue = forecast['yhat'].values[-1]\n",
        "\n",
        "print(\"현재가 : \" , nowValue)\n",
        "print(\"24시간뒤의 가격: \", closeValue)\n",
        "\n",
        "#그래프 1 \n",
        "fig1 = model.plot(forecast)\n",
        "#그래프 2\n",
        "fig2 = model.plot_components(forecast)\n"
      ]
    }
  ]
}